{
 "cells": [
  {
   "cell_type": "markdown",
   "id": "b78f7a47",
   "metadata": {},
   "source": [
    "# 1) Low variance check"
   ]
  },
  {
   "cell_type": "code",
   "execution_count": 55,
   "id": "17d9f3b0",
   "metadata": {},
   "outputs": [],
   "source": [
    "import numpy as np\n",
    "import pandas as pd"
   ]
  },
  {
   "cell_type": "code",
   "execution_count": 56,
   "id": "c5f7ecff",
   "metadata": {},
   "outputs": [
    {
     "data": {
      "text/html": [
       "<div>\n",
       "<style scoped>\n",
       "    .dataframe tbody tr th:only-of-type {\n",
       "        vertical-align: middle;\n",
       "    }\n",
       "\n",
       "    .dataframe tbody tr th {\n",
       "        vertical-align: top;\n",
       "    }\n",
       "\n",
       "    .dataframe thead th {\n",
       "        text-align: right;\n",
       "    }\n",
       "</style>\n",
       "<table border=\"1\" class=\"dataframe\">\n",
       "  <thead>\n",
       "    <tr style=\"text-align: right;\">\n",
       "      <th></th>\n",
       "      <th>mpg</th>\n",
       "      <th>cylinders</th>\n",
       "      <th>displacement</th>\n",
       "      <th>horsepower</th>\n",
       "      <th>weight</th>\n",
       "      <th>acceleration</th>\n",
       "      <th>model_year</th>\n",
       "      <th>origin</th>\n",
       "      <th>name</th>\n",
       "    </tr>\n",
       "  </thead>\n",
       "  <tbody>\n",
       "    <tr>\n",
       "      <th>0</th>\n",
       "      <td>18.0</td>\n",
       "      <td>8</td>\n",
       "      <td>307.0</td>\n",
       "      <td>130</td>\n",
       "      <td>3504</td>\n",
       "      <td>12.0</td>\n",
       "      <td>70</td>\n",
       "      <td>1</td>\n",
       "      <td>chevrolet chevelle malibu</td>\n",
       "    </tr>\n",
       "    <tr>\n",
       "      <th>1</th>\n",
       "      <td>15.0</td>\n",
       "      <td>8</td>\n",
       "      <td>350.0</td>\n",
       "      <td>165</td>\n",
       "      <td>3693</td>\n",
       "      <td>11.5</td>\n",
       "      <td>70</td>\n",
       "      <td>1</td>\n",
       "      <td>buick skylark 320</td>\n",
       "    </tr>\n",
       "    <tr>\n",
       "      <th>2</th>\n",
       "      <td>18.0</td>\n",
       "      <td>8</td>\n",
       "      <td>318.0</td>\n",
       "      <td>150</td>\n",
       "      <td>3436</td>\n",
       "      <td>11.0</td>\n",
       "      <td>70</td>\n",
       "      <td>1</td>\n",
       "      <td>plymouth satellite</td>\n",
       "    </tr>\n",
       "    <tr>\n",
       "      <th>3</th>\n",
       "      <td>16.0</td>\n",
       "      <td>8</td>\n",
       "      <td>304.0</td>\n",
       "      <td>150</td>\n",
       "      <td>3433</td>\n",
       "      <td>12.0</td>\n",
       "      <td>70</td>\n",
       "      <td>1</td>\n",
       "      <td>amc rebel sst</td>\n",
       "    </tr>\n",
       "    <tr>\n",
       "      <th>4</th>\n",
       "      <td>17.0</td>\n",
       "      <td>8</td>\n",
       "      <td>302.0</td>\n",
       "      <td>140</td>\n",
       "      <td>3449</td>\n",
       "      <td>10.5</td>\n",
       "      <td>70</td>\n",
       "      <td>1</td>\n",
       "      <td>ford torino</td>\n",
       "    </tr>\n",
       "  </tbody>\n",
       "</table>\n",
       "</div>"
      ],
      "text/plain": [
       "    mpg  cylinders  displacement horsepower  weight  acceleration  model_year  \\\n",
       "0  18.0          8         307.0        130    3504          12.0          70   \n",
       "1  15.0          8         350.0        165    3693          11.5          70   \n",
       "2  18.0          8         318.0        150    3436          11.0          70   \n",
       "3  16.0          8         304.0        150    3433          12.0          70   \n",
       "4  17.0          8         302.0        140    3449          10.5          70   \n",
       "\n",
       "   origin                       name  \n",
       "0       1  chevrolet chevelle malibu  \n",
       "1       1          buick skylark 320  \n",
       "2       1         plymouth satellite  \n",
       "3       1              amc rebel sst  \n",
       "4       1                ford torino  "
      ]
     },
     "execution_count": 56,
     "metadata": {},
     "output_type": "execute_result"
    }
   ],
   "source": [
    "df= pd.read_csv('mpg.csv')\n",
    "df.head()"
   ]
  },
  {
   "cell_type": "code",
   "execution_count": 57,
   "id": "4bd6390a",
   "metadata": {},
   "outputs": [
    {
     "data": {
      "text/html": [
       "<div>\n",
       "<style scoped>\n",
       "    .dataframe tbody tr th:only-of-type {\n",
       "        vertical-align: middle;\n",
       "    }\n",
       "\n",
       "    .dataframe tbody tr th {\n",
       "        vertical-align: top;\n",
       "    }\n",
       "\n",
       "    .dataframe thead th {\n",
       "        text-align: right;\n",
       "    }\n",
       "</style>\n",
       "<table border=\"1\" class=\"dataframe\">\n",
       "  <thead>\n",
       "    <tr style=\"text-align: right;\">\n",
       "      <th></th>\n",
       "      <th>mpg</th>\n",
       "      <th>cylinders</th>\n",
       "      <th>displacement</th>\n",
       "      <th>weight</th>\n",
       "      <th>acceleration</th>\n",
       "      <th>model_year</th>\n",
       "      <th>origin</th>\n",
       "      <th>name</th>\n",
       "    </tr>\n",
       "  </thead>\n",
       "  <tbody>\n",
       "    <tr>\n",
       "      <th>0</th>\n",
       "      <td>18.0</td>\n",
       "      <td>8</td>\n",
       "      <td>307.0</td>\n",
       "      <td>3504</td>\n",
       "      <td>12.0</td>\n",
       "      <td>70</td>\n",
       "      <td>1</td>\n",
       "      <td>chevrolet chevelle malibu</td>\n",
       "    </tr>\n",
       "    <tr>\n",
       "      <th>1</th>\n",
       "      <td>15.0</td>\n",
       "      <td>8</td>\n",
       "      <td>350.0</td>\n",
       "      <td>3693</td>\n",
       "      <td>11.5</td>\n",
       "      <td>70</td>\n",
       "      <td>1</td>\n",
       "      <td>buick skylark 320</td>\n",
       "    </tr>\n",
       "    <tr>\n",
       "      <th>2</th>\n",
       "      <td>18.0</td>\n",
       "      <td>8</td>\n",
       "      <td>318.0</td>\n",
       "      <td>3436</td>\n",
       "      <td>11.0</td>\n",
       "      <td>70</td>\n",
       "      <td>1</td>\n",
       "      <td>plymouth satellite</td>\n",
       "    </tr>\n",
       "    <tr>\n",
       "      <th>3</th>\n",
       "      <td>16.0</td>\n",
       "      <td>8</td>\n",
       "      <td>304.0</td>\n",
       "      <td>3433</td>\n",
       "      <td>12.0</td>\n",
       "      <td>70</td>\n",
       "      <td>1</td>\n",
       "      <td>amc rebel sst</td>\n",
       "    </tr>\n",
       "    <tr>\n",
       "      <th>4</th>\n",
       "      <td>17.0</td>\n",
       "      <td>8</td>\n",
       "      <td>302.0</td>\n",
       "      <td>3449</td>\n",
       "      <td>10.5</td>\n",
       "      <td>70</td>\n",
       "      <td>1</td>\n",
       "      <td>ford torino</td>\n",
       "    </tr>\n",
       "  </tbody>\n",
       "</table>\n",
       "</div>"
      ],
      "text/plain": [
       "    mpg  cylinders  displacement  weight  acceleration  model_year  origin  \\\n",
       "0  18.0          8         307.0    3504          12.0          70       1   \n",
       "1  15.0          8         350.0    3693          11.5          70       1   \n",
       "2  18.0          8         318.0    3436          11.0          70       1   \n",
       "3  16.0          8         304.0    3433          12.0          70       1   \n",
       "4  17.0          8         302.0    3449          10.5          70       1   \n",
       "\n",
       "                        name  \n",
       "0  chevrolet chevelle malibu  \n",
       "1          buick skylark 320  \n",
       "2         plymouth satellite  \n",
       "3              amc rebel sst  \n",
       "4                ford torino  "
      ]
     },
     "execution_count": 57,
     "metadata": {},
     "output_type": "execute_result"
    }
   ],
   "source": [
    "df.drop(['horsepower'], axis=1, inplace= True)\n",
    "df.head()"
   ]
  },
  {
   "cell_type": "code",
   "execution_count": 58,
   "id": "6b0cae27",
   "metadata": {},
   "outputs": [
    {
     "name": "stdout",
     "output_type": "stream",
     "text": [
      "    mpg  cylinders  displacement  weight  acceleration  model_year\n",
      "0  18.0          8         307.0    3504          12.0          70\n",
      "1  15.0          8         350.0    3693          11.5          70\n",
      "2  18.0          8         318.0    3436          11.0          70\n",
      "3  16.0          8         304.0    3433          12.0          70\n",
      "4  17.0          8         302.0    3449          10.5          70\n",
      "......................................\n",
      "[[  18.     8.   307.  3504.    12.    70. ]\n",
      " [  15.     8.   350.  3693.    11.5   70. ]\n",
      " [  18.     8.   318.  3436.    11.    70. ]\n",
      " [  16.     8.   304.  3433.    12.    70. ]\n",
      " [  17.     8.   302.  3449.    10.5   70. ]]\n",
      "(398, 6)\n",
      "(398, 6)\n"
     ]
    }
   ],
   "source": [
    "x1= df.iloc[:,0:6]\n",
    "\n",
    "print(x1[0:5])\n",
    "print('......................................')\n",
    "\n",
    "threasholder= VarianceThreshold(threshold= 0.5)\n",
    "\n",
    "x1_high_variance= threasholder.fit_transform(x1)\n",
    "print(x1_high_variance[0:5])\n",
    "\n",
    "print(x1.shape)\n",
    "print(x1_high_variance.shape)"
   ]
  },
  {
   "cell_type": "markdown",
   "id": "e10b33a1",
   "metadata": {},
   "source": [
    "VarianceThreshold, original number of columns= 6, new number of columns= 6"
   ]
  },
  {
   "cell_type": "markdown",
   "id": "3c3d680f",
   "metadata": {},
   "source": [
    "# 2) Principal component analysis"
   ]
  },
  {
   "cell_type": "code",
   "execution_count": 59,
   "id": "bfa80944",
   "metadata": {},
   "outputs": [
    {
     "data": {
      "text/plain": [
       "(398, 1)"
      ]
     },
     "execution_count": 59,
     "metadata": {},
     "output_type": "execute_result"
    }
   ],
   "source": [
    "from sklearn.decomposition import PCA\n",
    "x3= df.iloc[:,1:-2]\n",
    "pca= PCA(0.95)\n",
    "x3_pca= pca.fit_transform(x3)\n",
    "x3_pca.shape"
   ]
  },
  {
   "cell_type": "markdown",
   "id": "66096037",
   "metadata": {},
   "source": [
    "PCA, original number of columns= 6, new number of columns= 1"
   ]
  },
  {
   "cell_type": "markdown",
   "id": "b3221859",
   "metadata": {},
   "source": [
    "# 3) Chi-square filter"
   ]
  },
  {
   "cell_type": "code",
   "execution_count": 52,
   "id": "c94402a6",
   "metadata": {
    "scrolled": true
   },
   "outputs": [
    {
     "ename": "ValueError",
     "evalue": "Unknown label type: (array([[18. ],\n       [15. ],\n       [18. ],\n       [16. ],\n       [17. ],\n       [15. ],\n       [14. ],\n       [14. ],\n       [14. ],\n       [15. ],\n       [15. ],\n       [14. ],\n       [15. ],\n       [14. ],\n       [24. ],\n       [22. ],\n       [18. ],\n       [21. ],\n       [27. ],\n       [26. ],\n       [25. ],\n       [24. ],\n       [25. ],\n       [26. ],\n       [21. ],\n       [10. ],\n       [10. ],\n       [11. ],\n       [ 9. ],\n       [27. ],\n       [28. ],\n       [25. ],\n       [25. ],\n       [19. ],\n       [16. ],\n       [17. ],\n       [19. ],\n       [18. ],\n       [14. ],\n       [14. ],\n       [14. ],\n       [14. ],\n       [12. ],\n       [13. ],\n       [13. ],\n       [18. ],\n       [22. ],\n       [19. ],\n       [18. ],\n       [23. ],\n       [28. ],\n       [30. ],\n       [30. ],\n       [31. ],\n       [35. ],\n       [27. ],\n       [26. ],\n       [24. ],\n       [25. ],\n       [23. ],\n       [20. ],\n       [21. ],\n       [13. ],\n       [14. ],\n       [15. ],\n       [14. ],\n       [17. ],\n       [11. ],\n       [13. ],\n       [12. ],\n       [13. ],\n       [19. ],\n       [15. ],\n       [13. ],\n       [13. ],\n       [14. ],\n       [18. ],\n       [22. ],\n       [21. ],\n       [26. ],\n       [22. ],\n       [28. ],\n       [23. ],\n       [28. ],\n       [27. ],\n       [13. ],\n       [14. ],\n       [13. ],\n       [14. ],\n       [15. ],\n       [12. ],\n       [13. ],\n       [13. ],\n       [14. ],\n       [13. ],\n       [12. ],\n       [13. ],\n       [18. ],\n       [16. ],\n       [18. ],\n       [18. ],\n       [23. ],\n       [26. ],\n       [11. ],\n       [12. ],\n       [13. ],\n       [12. ],\n       [18. ],\n       [20. ],\n       [21. ],\n       [22. ],\n       [18. ],\n       [19. ],\n       [21. ],\n       [26. ],\n       [15. ],\n       [16. ],\n       [29. ],\n       [24. ],\n       [20. ],\n       [19. ],\n       [15. ],\n       [24. ],\n       [20. ],\n       [11. ],\n       [20. ],\n       [21. ],\n       [19. ],\n       [15. ],\n       [31. ],\n       [26. ],\n       [32. ],\n       [25. ],\n       [16. ],\n       [16. ],\n       [18. ],\n       [16. ],\n       [13. ],\n       [14. ],\n       [14. ],\n       [14. ],\n       [29. ],\n       [26. ],\n       [26. ],\n       [31. ],\n       [32. ],\n       [28. ],\n       [24. ],\n       [26. ],\n       [24. ],\n       [26. ],\n       [31. ],\n       [19. ],\n       [18. ],\n       [15. ],\n       [15. ],\n       [16. ],\n       [15. ],\n       [16. ],\n       [14. ],\n       [17. ],\n       [16. ],\n       [15. ],\n       [18. ],\n       [21. ],\n       [20. ],\n       [13. ],\n       [29. ],\n       [23. ],\n       [20. ],\n       [23. ],\n       [24. ],\n       [25. ],\n       [24. ],\n       [18. ],\n       [29. ],\n       [19. ],\n       [23. ],\n       [23. ],\n       [22. ],\n       [25. ],\n       [33. ],\n       [28. ],\n       [25. ],\n       [25. ],\n       [26. ],\n       [27. ],\n       [17.5],\n       [16. ],\n       [15.5],\n       [14.5],\n       [22. ],\n       [22. ],\n       [24. ],\n       [22.5],\n       [29. ],\n       [24.5],\n       [29. ],\n       [33. ],\n       [20. ],\n       [18. ],\n       [18.5],\n       [17.5],\n       [29.5],\n       [32. ],\n       [28. ],\n       [26.5],\n       [20. ],\n       [13. ],\n       [19. ],\n       [19. ],\n       [16.5],\n       [16.5],\n       [13. ],\n       [13. ],\n       [13. ],\n       [31.5],\n       [30. ],\n       [36. ],\n       [25.5],\n       [33.5],\n       [17.5],\n       [17. ],\n       [15.5],\n       [15. ],\n       [17.5],\n       [20.5],\n       [19. ],\n       [18.5],\n       [16. ],\n       [15.5],\n       [15.5],\n       [16. ],\n       [29. ],\n       [24.5],\n       [26. ],\n       [25.5],\n       [30.5],\n       [33.5],\n       [30. ],\n       [30.5],\n       [22. ],\n       [21.5],\n       [21.5],\n       [43.1],\n       [36.1],\n       [32.8],\n       [39.4],\n       [36.1],\n       [19.9],\n       [19.4],\n       [20.2],\n       [19.2],\n       [20.5],\n       [20.2],\n       [25.1],\n       [20.5],\n       [19.4],\n       [20.6],\n       [20.8],\n       [18.6],\n       [18.1],\n       [19.2],\n       [17.7],\n       [18.1],\n       [17.5],\n       [30. ],\n       [27.5],\n       [27.2],\n       [30.9],\n       [21.1],\n       [23.2],\n       [23.8],\n       [23.9],\n       [20.3],\n       [17. ],\n       [21.6],\n       [16.2],\n       [31.5],\n       [29.5],\n       [21.5],\n       [19.8],\n       [22.3],\n       [20.2],\n       [20.6],\n       [17. ],\n       [17.6],\n       [16.5],\n       [18.2],\n       [16.9],\n       [15.5],\n       [19.2],\n       [18.5],\n       [31.9],\n       [34.1],\n       [35.7],\n       [27.4],\n       [25.4],\n       [23. ],\n       [27.2],\n       [23.9],\n       [34.2],\n       [34.5],\n       [31.8],\n       [37.3],\n       [28.4],\n       [28.8],\n       [26.8],\n       [33.5],\n       [41.5],\n       [38.1],\n       [32.1],\n       [37.2],\n       [28. ],\n       [26.4],\n       [24.3],\n       [19.1],\n       [34.3],\n       [29.8],\n       [31.3],\n       [37. ],\n       [32.2],\n       [46.6],\n       [27.9],\n       [40.8],\n       [44.3],\n       [43.4],\n       [36.4],\n       [30. ],\n       [44.6],\n       [40.9],\n       [33.8],\n       [29.8],\n       [32.7],\n       [23.7],\n       [35. ],\n       [23.6],\n       [32.4],\n       [27.2],\n       [26.6],\n       [25.8],\n       [23.5],\n       [30. ],\n       [39.1],\n       [39. ],\n       [35.1],\n       [32.3],\n       [37. ],\n       [37.7],\n       [34.1],\n       [34.7],\n       [34.4],\n       [29.9],\n       [33. ],\n       [34.5],\n       [33.7],\n       [32.4],\n       [32.9],\n       [31.6],\n       [28.1],\n       [30.7],\n       [25.4],\n       [24.2],\n       [22.4],\n       [26.6],\n       [20.2],\n       [17.6],\n       [28. ],\n       [27. ],\n       [34. ],\n       [31. ],\n       [29. ],\n       [27. ],\n       [24. ],\n       [23. ],\n       [36. ],\n       [37. ],\n       [31. ],\n       [38. ],\n       [36. ],\n       [36. ],\n       [36. ],\n       [34. ],\n       [38. ],\n       [32. ],\n       [38. ],\n       [25. ],\n       [38. ],\n       [26. ],\n       [22. ],\n       [32. ],\n       [36. ],\n       [27. ],\n       [27. ],\n       [44. ],\n       [32. ],\n       [28. ],\n       [31. ]]),)",
     "output_type": "error",
     "traceback": [
      "\u001b[1;31m---------------------------------------------------------------------------\u001b[0m",
      "\u001b[1;31mValueError\u001b[0m                                Traceback (most recent call last)",
      "Input \u001b[1;32mIn [52]\u001b[0m, in \u001b[0;36m<cell line: 9>\u001b[1;34m()\u001b[0m\n\u001b[0;32m      6\u001b[0m \u001b[38;5;28;01mfrom\u001b[39;00m \u001b[38;5;21;01msklearn\u001b[39;00m\u001b[38;5;21;01m.\u001b[39;00m\u001b[38;5;21;01mfeature_selection\u001b[39;00m \u001b[38;5;28;01mimport\u001b[39;00m chi2\n\u001b[0;32m      8\u001b[0m bestfeatures\u001b[38;5;241m=\u001b[39m SelectKBest(score_func\u001b[38;5;241m=\u001b[39mchi2, k\u001b[38;5;241m=\u001b[39m\u001b[38;5;241m5\u001b[39m)\n\u001b[1;32m----> 9\u001b[0m fit\u001b[38;5;241m=\u001b[39m\u001b[43mbestfeatures\u001b[49m\u001b[38;5;241;43m.\u001b[39;49m\u001b[43mfit\u001b[49m\u001b[43m(\u001b[49m\u001b[43mx\u001b[49m\u001b[43m,\u001b[49m\u001b[43my\u001b[49m\u001b[43m)\u001b[49m\n\u001b[0;32m     10\u001b[0m dfscores\u001b[38;5;241m=\u001b[39m pd\u001b[38;5;241m.\u001b[39mDataFrame(fit\u001b[38;5;241m.\u001b[39mscores_)\n\u001b[0;32m     11\u001b[0m dfcolumns\u001b[38;5;241m=\u001b[39m pd\u001b[38;5;241m.\u001b[39mDataFrame(x\u001b[38;5;241m.\u001b[39mcolumns)\n",
      "File \u001b[1;32m~\\AppData\\Roaming\\Python\\Python39\\site-packages\\sklearn\\feature_selection\\_univariate_selection.py:472\u001b[0m, in \u001b[0;36m_BaseFilter.fit\u001b[1;34m(self, X, y)\u001b[0m\n\u001b[0;32m    466\u001b[0m     \u001b[38;5;28;01mraise\u001b[39;00m \u001b[38;5;167;01mTypeError\u001b[39;00m(\n\u001b[0;32m    467\u001b[0m         \u001b[38;5;124m\"\u001b[39m\u001b[38;5;124mThe score function should be a callable, \u001b[39m\u001b[38;5;132;01m%s\u001b[39;00m\u001b[38;5;124m (\u001b[39m\u001b[38;5;132;01m%s\u001b[39;00m\u001b[38;5;124m) was passed.\u001b[39m\u001b[38;5;124m\"\u001b[39m\n\u001b[0;32m    468\u001b[0m         \u001b[38;5;241m%\u001b[39m (\u001b[38;5;28mself\u001b[39m\u001b[38;5;241m.\u001b[39mscore_func, \u001b[38;5;28mtype\u001b[39m(\u001b[38;5;28mself\u001b[39m\u001b[38;5;241m.\u001b[39mscore_func))\n\u001b[0;32m    469\u001b[0m     )\n\u001b[0;32m    471\u001b[0m \u001b[38;5;28mself\u001b[39m\u001b[38;5;241m.\u001b[39m_check_params(X, y)\n\u001b[1;32m--> 472\u001b[0m score_func_ret \u001b[38;5;241m=\u001b[39m \u001b[38;5;28;43mself\u001b[39;49m\u001b[38;5;241;43m.\u001b[39;49m\u001b[43mscore_func\u001b[49m\u001b[43m(\u001b[49m\u001b[43mX\u001b[49m\u001b[43m,\u001b[49m\u001b[43m \u001b[49m\u001b[43my\u001b[49m\u001b[43m)\u001b[49m\n\u001b[0;32m    473\u001b[0m \u001b[38;5;28;01mif\u001b[39;00m \u001b[38;5;28misinstance\u001b[39m(score_func_ret, (\u001b[38;5;28mlist\u001b[39m, \u001b[38;5;28mtuple\u001b[39m)):\n\u001b[0;32m    474\u001b[0m     \u001b[38;5;28mself\u001b[39m\u001b[38;5;241m.\u001b[39mscores_, \u001b[38;5;28mself\u001b[39m\u001b[38;5;241m.\u001b[39mpvalues_ \u001b[38;5;241m=\u001b[39m score_func_ret\n",
      "File \u001b[1;32m~\\AppData\\Roaming\\Python\\Python39\\site-packages\\sklearn\\feature_selection\\_univariate_selection.py:219\u001b[0m, in \u001b[0;36mchi2\u001b[1;34m(X, y)\u001b[0m\n\u001b[0;32m    215\u001b[0m     \u001b[38;5;28;01mraise\u001b[39;00m \u001b[38;5;167;01mValueError\u001b[39;00m(\u001b[38;5;124m\"\u001b[39m\u001b[38;5;124mInput X must be non-negative.\u001b[39m\u001b[38;5;124m\"\u001b[39m)\n\u001b[0;32m    217\u001b[0m \u001b[38;5;66;03m# Use a sparse representation for Y by default to reduce memory usage when\u001b[39;00m\n\u001b[0;32m    218\u001b[0m \u001b[38;5;66;03m# y has many unique classes.\u001b[39;00m\n\u001b[1;32m--> 219\u001b[0m Y \u001b[38;5;241m=\u001b[39m \u001b[43mLabelBinarizer\u001b[49m\u001b[43m(\u001b[49m\u001b[43msparse_output\u001b[49m\u001b[38;5;241;43m=\u001b[39;49m\u001b[38;5;28;43;01mTrue\u001b[39;49;00m\u001b[43m)\u001b[49m\u001b[38;5;241;43m.\u001b[39;49m\u001b[43mfit_transform\u001b[49m\u001b[43m(\u001b[49m\u001b[43my\u001b[49m\u001b[43m)\u001b[49m\n\u001b[0;32m    220\u001b[0m \u001b[38;5;28;01mif\u001b[39;00m Y\u001b[38;5;241m.\u001b[39mshape[\u001b[38;5;241m1\u001b[39m] \u001b[38;5;241m==\u001b[39m \u001b[38;5;241m1\u001b[39m:\n\u001b[0;32m    221\u001b[0m     Y \u001b[38;5;241m=\u001b[39m Y\u001b[38;5;241m.\u001b[39mtoarray()\n",
      "File \u001b[1;32m~\\AppData\\Roaming\\Python\\Python39\\site-packages\\sklearn\\preprocessing\\_label.py:325\u001b[0m, in \u001b[0;36mLabelBinarizer.fit_transform\u001b[1;34m(self, y)\u001b[0m\n\u001b[0;32m    305\u001b[0m \u001b[38;5;28;01mdef\u001b[39;00m \u001b[38;5;21mfit_transform\u001b[39m(\u001b[38;5;28mself\u001b[39m, y):\n\u001b[0;32m    306\u001b[0m     \u001b[38;5;124;03m\"\"\"Fit label binarizer/transform multi-class labels to binary labels.\u001b[39;00m\n\u001b[0;32m    307\u001b[0m \n\u001b[0;32m    308\u001b[0m \u001b[38;5;124;03m    The output of transform is sometimes referred to as\u001b[39;00m\n\u001b[1;32m   (...)\u001b[0m\n\u001b[0;32m    323\u001b[0m \u001b[38;5;124;03m        will be of CSR format.\u001b[39;00m\n\u001b[0;32m    324\u001b[0m \u001b[38;5;124;03m    \"\"\"\u001b[39;00m\n\u001b[1;32m--> 325\u001b[0m     \u001b[38;5;28;01mreturn\u001b[39;00m \u001b[38;5;28;43mself\u001b[39;49m\u001b[38;5;241;43m.\u001b[39;49m\u001b[43mfit\u001b[49m\u001b[43m(\u001b[49m\u001b[43my\u001b[49m\u001b[43m)\u001b[49m\u001b[38;5;241m.\u001b[39mtransform(y)\n",
      "File \u001b[1;32m~\\AppData\\Roaming\\Python\\Python39\\site-packages\\sklearn\\preprocessing\\_label.py:302\u001b[0m, in \u001b[0;36mLabelBinarizer.fit\u001b[1;34m(self, y)\u001b[0m\n\u001b[0;32m    299\u001b[0m     \u001b[38;5;28;01mraise\u001b[39;00m \u001b[38;5;167;01mValueError\u001b[39;00m(\u001b[38;5;124m\"\u001b[39m\u001b[38;5;124my has 0 samples: \u001b[39m\u001b[38;5;132;01m%r\u001b[39;00m\u001b[38;5;124m\"\u001b[39m \u001b[38;5;241m%\u001b[39m y)\n\u001b[0;32m    301\u001b[0m \u001b[38;5;28mself\u001b[39m\u001b[38;5;241m.\u001b[39msparse_input_ \u001b[38;5;241m=\u001b[39m sp\u001b[38;5;241m.\u001b[39missparse(y)\n\u001b[1;32m--> 302\u001b[0m \u001b[38;5;28mself\u001b[39m\u001b[38;5;241m.\u001b[39mclasses_ \u001b[38;5;241m=\u001b[39m \u001b[43munique_labels\u001b[49m\u001b[43m(\u001b[49m\u001b[43my\u001b[49m\u001b[43m)\u001b[49m\n\u001b[0;32m    303\u001b[0m \u001b[38;5;28;01mreturn\u001b[39;00m \u001b[38;5;28mself\u001b[39m\n",
      "File \u001b[1;32m~\\AppData\\Roaming\\Python\\Python39\\site-packages\\sklearn\\utils\\multiclass.py:103\u001b[0m, in \u001b[0;36munique_labels\u001b[1;34m(*ys)\u001b[0m\n\u001b[0;32m    101\u001b[0m _unique_labels \u001b[38;5;241m=\u001b[39m _FN_UNIQUE_LABELS\u001b[38;5;241m.\u001b[39mget(label_type, \u001b[38;5;28;01mNone\u001b[39;00m)\n\u001b[0;32m    102\u001b[0m \u001b[38;5;28;01mif\u001b[39;00m \u001b[38;5;129;01mnot\u001b[39;00m _unique_labels:\n\u001b[1;32m--> 103\u001b[0m     \u001b[38;5;28;01mraise\u001b[39;00m \u001b[38;5;167;01mValueError\u001b[39;00m(\u001b[38;5;124m\"\u001b[39m\u001b[38;5;124mUnknown label type: \u001b[39m\u001b[38;5;132;01m%s\u001b[39;00m\u001b[38;5;124m\"\u001b[39m \u001b[38;5;241m%\u001b[39m \u001b[38;5;28mrepr\u001b[39m(ys))\n\u001b[0;32m    105\u001b[0m ys_labels \u001b[38;5;241m=\u001b[39m \u001b[38;5;28mset\u001b[39m(chain\u001b[38;5;241m.\u001b[39mfrom_iterable(_unique_labels(y) \u001b[38;5;28;01mfor\u001b[39;00m y \u001b[38;5;129;01min\u001b[39;00m ys))\n\u001b[0;32m    107\u001b[0m \u001b[38;5;66;03m# Check that we don't mix string type with number type\u001b[39;00m\n",
      "\u001b[1;31mValueError\u001b[0m: Unknown label type: (array([[18. ],\n       [15. ],\n       [18. ],\n       [16. ],\n       [17. ],\n       [15. ],\n       [14. ],\n       [14. ],\n       [14. ],\n       [15. ],\n       [15. ],\n       [14. ],\n       [15. ],\n       [14. ],\n       [24. ],\n       [22. ],\n       [18. ],\n       [21. ],\n       [27. ],\n       [26. ],\n       [25. ],\n       [24. ],\n       [25. ],\n       [26. ],\n       [21. ],\n       [10. ],\n       [10. ],\n       [11. ],\n       [ 9. ],\n       [27. ],\n       [28. ],\n       [25. ],\n       [25. ],\n       [19. ],\n       [16. ],\n       [17. ],\n       [19. ],\n       [18. ],\n       [14. ],\n       [14. ],\n       [14. ],\n       [14. ],\n       [12. ],\n       [13. ],\n       [13. ],\n       [18. ],\n       [22. ],\n       [19. ],\n       [18. ],\n       [23. ],\n       [28. ],\n       [30. ],\n       [30. ],\n       [31. ],\n       [35. ],\n       [27. ],\n       [26. ],\n       [24. ],\n       [25. ],\n       [23. ],\n       [20. ],\n       [21. ],\n       [13. ],\n       [14. ],\n       [15. ],\n       [14. ],\n       [17. ],\n       [11. ],\n       [13. ],\n       [12. ],\n       [13. ],\n       [19. ],\n       [15. ],\n       [13. ],\n       [13. ],\n       [14. ],\n       [18. ],\n       [22. ],\n       [21. ],\n       [26. ],\n       [22. ],\n       [28. ],\n       [23. ],\n       [28. ],\n       [27. ],\n       [13. ],\n       [14. ],\n       [13. ],\n       [14. ],\n       [15. ],\n       [12. ],\n       [13. ],\n       [13. ],\n       [14. ],\n       [13. ],\n       [12. ],\n       [13. ],\n       [18. ],\n       [16. ],\n       [18. ],\n       [18. ],\n       [23. ],\n       [26. ],\n       [11. ],\n       [12. ],\n       [13. ],\n       [12. ],\n       [18. ],\n       [20. ],\n       [21. ],\n       [22. ],\n       [18. ],\n       [19. ],\n       [21. ],\n       [26. ],\n       [15. ],\n       [16. ],\n       [29. ],\n       [24. ],\n       [20. ],\n       [19. ],\n       [15. ],\n       [24. ],\n       [20. ],\n       [11. ],\n       [20. ],\n       [21. ],\n       [19. ],\n       [15. ],\n       [31. ],\n       [26. ],\n       [32. ],\n       [25. ],\n       [16. ],\n       [16. ],\n       [18. ],\n       [16. ],\n       [13. ],\n       [14. ],\n       [14. ],\n       [14. ],\n       [29. ],\n       [26. ],\n       [26. ],\n       [31. ],\n       [32. ],\n       [28. ],\n       [24. ],\n       [26. ],\n       [24. ],\n       [26. ],\n       [31. ],\n       [19. ],\n       [18. ],\n       [15. ],\n       [15. ],\n       [16. ],\n       [15. ],\n       [16. ],\n       [14. ],\n       [17. ],\n       [16. ],\n       [15. ],\n       [18. ],\n       [21. ],\n       [20. ],\n       [13. ],\n       [29. ],\n       [23. ],\n       [20. ],\n       [23. ],\n       [24. ],\n       [25. ],\n       [24. ],\n       [18. ],\n       [29. ],\n       [19. ],\n       [23. ],\n       [23. ],\n       [22. ],\n       [25. ],\n       [33. ],\n       [28. ],\n       [25. ],\n       [25. ],\n       [26. ],\n       [27. ],\n       [17.5],\n       [16. ],\n       [15.5],\n       [14.5],\n       [22. ],\n       [22. ],\n       [24. ],\n       [22.5],\n       [29. ],\n       [24.5],\n       [29. ],\n       [33. ],\n       [20. ],\n       [18. ],\n       [18.5],\n       [17.5],\n       [29.5],\n       [32. ],\n       [28. ],\n       [26.5],\n       [20. ],\n       [13. ],\n       [19. ],\n       [19. ],\n       [16.5],\n       [16.5],\n       [13. ],\n       [13. ],\n       [13. ],\n       [31.5],\n       [30. ],\n       [36. ],\n       [25.5],\n       [33.5],\n       [17.5],\n       [17. ],\n       [15.5],\n       [15. ],\n       [17.5],\n       [20.5],\n       [19. ],\n       [18.5],\n       [16. ],\n       [15.5],\n       [15.5],\n       [16. ],\n       [29. ],\n       [24.5],\n       [26. ],\n       [25.5],\n       [30.5],\n       [33.5],\n       [30. ],\n       [30.5],\n       [22. ],\n       [21.5],\n       [21.5],\n       [43.1],\n       [36.1],\n       [32.8],\n       [39.4],\n       [36.1],\n       [19.9],\n       [19.4],\n       [20.2],\n       [19.2],\n       [20.5],\n       [20.2],\n       [25.1],\n       [20.5],\n       [19.4],\n       [20.6],\n       [20.8],\n       [18.6],\n       [18.1],\n       [19.2],\n       [17.7],\n       [18.1],\n       [17.5],\n       [30. ],\n       [27.5],\n       [27.2],\n       [30.9],\n       [21.1],\n       [23.2],\n       [23.8],\n       [23.9],\n       [20.3],\n       [17. ],\n       [21.6],\n       [16.2],\n       [31.5],\n       [29.5],\n       [21.5],\n       [19.8],\n       [22.3],\n       [20.2],\n       [20.6],\n       [17. ],\n       [17.6],\n       [16.5],\n       [18.2],\n       [16.9],\n       [15.5],\n       [19.2],\n       [18.5],\n       [31.9],\n       [34.1],\n       [35.7],\n       [27.4],\n       [25.4],\n       [23. ],\n       [27.2],\n       [23.9],\n       [34.2],\n       [34.5],\n       [31.8],\n       [37.3],\n       [28.4],\n       [28.8],\n       [26.8],\n       [33.5],\n       [41.5],\n       [38.1],\n       [32.1],\n       [37.2],\n       [28. ],\n       [26.4],\n       [24.3],\n       [19.1],\n       [34.3],\n       [29.8],\n       [31.3],\n       [37. ],\n       [32.2],\n       [46.6],\n       [27.9],\n       [40.8],\n       [44.3],\n       [43.4],\n       [36.4],\n       [30. ],\n       [44.6],\n       [40.9],\n       [33.8],\n       [29.8],\n       [32.7],\n       [23.7],\n       [35. ],\n       [23.6],\n       [32.4],\n       [27.2],\n       [26.6],\n       [25.8],\n       [23.5],\n       [30. ],\n       [39.1],\n       [39. ],\n       [35.1],\n       [32.3],\n       [37. ],\n       [37.7],\n       [34.1],\n       [34.7],\n       [34.4],\n       [29.9],\n       [33. ],\n       [34.5],\n       [33.7],\n       [32.4],\n       [32.9],\n       [31.6],\n       [28.1],\n       [30.7],\n       [25.4],\n       [24.2],\n       [22.4],\n       [26.6],\n       [20.2],\n       [17.6],\n       [28. ],\n       [27. ],\n       [34. ],\n       [31. ],\n       [29. ],\n       [27. ],\n       [24. ],\n       [23. ],\n       [36. ],\n       [37. ],\n       [31. ],\n       [38. ],\n       [36. ],\n       [36. ],\n       [36. ],\n       [34. ],\n       [38. ],\n       [32. ],\n       [38. ],\n       [25. ],\n       [38. ],\n       [26. ],\n       [22. ],\n       [32. ],\n       [36. ],\n       [27. ],\n       [27. ],\n       [44. ],\n       [32. ],\n       [28. ],\n       [31. ]]),)"
     ]
    }
   ],
   "source": [
    "# Feature selection \n",
    "# Using Chi-square statistical test\n",
    "\n",
    "# select 5 most significant feature\n",
    "from sklearn.feature_selection import SelectKBest\n",
    "from sklearn.feature_selection import chi2\n",
    "\n",
    "bestfeatures= SelectKBest(score_func=chi2, k=5)\n",
    "fit=bestfeatures.fit(x,y)\n",
    "dfscores= pd.DataFrame(fit.scores_)\n",
    "dfcolumns= pd.DataFrame(x.columns)\n",
    "\n",
    "# Concat 2 dataframes for better visualization\n",
    "featurescores= pd.concat([dfcolumns, dfscores], axis=1)\n",
    "featurescores.columns= ['Features', 'Score']\n",
    "print(featurescores.nlargest(12, 'Score'))"
   ]
  },
  {
   "cell_type": "markdown",
   "id": "052e5b95",
   "metadata": {},
   "source": [
    "Chi-square technique works only for **Classification problem**."
   ]
  },
  {
   "cell_type": "markdown",
   "id": "5e8dfc03",
   "metadata": {},
   "source": [
    "# 4) Feature importance"
   ]
  },
  {
   "cell_type": "code",
   "execution_count": 60,
   "id": "24ff45b9",
   "metadata": {},
   "outputs": [
    {
     "name": "stdout",
     "output_type": "stream",
     "text": [
      "(278, 6) (120, 6) (278, 1) (120, 1)\n"
     ]
    }
   ],
   "source": [
    "from sklearn.model_selection import train_test_split\n",
    "x_train, x_test, y_train, y_test= train_test_split(x, y, test_size=0.3, random_state=12)\n",
    "print(x_train.shape, x_test.shape, y_train.shape, y_test.shape)"
   ]
  },
  {
   "cell_type": "code",
   "execution_count": 61,
   "id": "c2aeda8a",
   "metadata": {},
   "outputs": [
    {
     "data": {
      "text/plain": [
       "array([0.0027828 , 0.64442242, 0.16249281, 0.03770076, 0.14297965,\n",
       "       0.00962157])"
      ]
     },
     "execution_count": 61,
     "metadata": {},
     "output_type": "execute_result"
    }
   ],
   "source": [
    "from sklearn.tree import DecisionTreeRegressor\n",
    "dt= DecisionTreeRegressor()\n",
    "dt.fit(x, y)\n",
    "dt.feature_importances_"
   ]
  },
  {
   "cell_type": "code",
   "execution_count": 62,
   "id": "9a899fd0",
   "metadata": {},
   "outputs": [
    {
     "data": {
      "text/html": [
       "<div>\n",
       "<style scoped>\n",
       "    .dataframe tbody tr th:only-of-type {\n",
       "        vertical-align: middle;\n",
       "    }\n",
       "\n",
       "    .dataframe tbody tr th {\n",
       "        vertical-align: top;\n",
       "    }\n",
       "\n",
       "    .dataframe thead th {\n",
       "        text-align: right;\n",
       "    }\n",
       "</style>\n",
       "<table border=\"1\" class=\"dataframe\">\n",
       "  <thead>\n",
       "    <tr style=\"text-align: right;\">\n",
       "      <th></th>\n",
       "      <th>Feature Importance</th>\n",
       "    </tr>\n",
       "  </thead>\n",
       "  <tbody>\n",
       "    <tr>\n",
       "      <th>cylinders</th>\n",
       "      <td>0.002783</td>\n",
       "    </tr>\n",
       "    <tr>\n",
       "      <th>displacement</th>\n",
       "      <td>0.644422</td>\n",
       "    </tr>\n",
       "    <tr>\n",
       "      <th>weight</th>\n",
       "      <td>0.162493</td>\n",
       "    </tr>\n",
       "    <tr>\n",
       "      <th>acceleration</th>\n",
       "      <td>0.037701</td>\n",
       "    </tr>\n",
       "    <tr>\n",
       "      <th>model_year</th>\n",
       "      <td>0.142980</td>\n",
       "    </tr>\n",
       "    <tr>\n",
       "      <th>origin</th>\n",
       "      <td>0.009622</td>\n",
       "    </tr>\n",
       "  </tbody>\n",
       "</table>\n",
       "</div>"
      ],
      "text/plain": [
       "              Feature Importance\n",
       "cylinders               0.002783\n",
       "displacement            0.644422\n",
       "weight                  0.162493\n",
       "acceleration            0.037701\n",
       "model_year              0.142980\n",
       "origin                  0.009622"
      ]
     },
     "execution_count": 62,
     "metadata": {},
     "output_type": "execute_result"
    }
   ],
   "source": [
    "pd.DataFrame(index=x.columns, data= dt.feature_importances_, columns=['Feature Importance'])"
   ]
  },
  {
   "cell_type": "code",
   "execution_count": 63,
   "id": "2e04da35",
   "metadata": {
    "scrolled": true
   },
   "outputs": [
    {
     "data": {
      "image/png": "[encoded data removed]",
      "text/plain": [
       "<Figure size 432x288 with 1 Axes>"
      ]
     },
     "metadata": {
      "needs_background": "light"
     },
     "output_type": "display_data"
    }
   ],
   "source": [
    "import matplotlib.pyplot as plt\n",
    "\n",
    "feature_imp= pd.Series(dt.feature_importances_, index=x.columns)\n",
    "feature_imp.nlargest(5).plot(kind='barh')\n",
    "plt.show()"
   ]
  },
  {
   "cell_type": "markdown",
   "id": "6d106083",
   "metadata": {},
   "source": [
    "Feature importance, displacement gets highest importance."
   ]
  },
  {
   "cell_type": "markdown",
   "id": "56cb22ea",
   "metadata": {},
   "source": [
    "# 5) Lasso"
   ]
  },
  {
   "cell_type": "code",
   "execution_count": 54,
   "id": "5bb4fec0",
   "metadata": {},
   "outputs": [
    {
     "name": "stdout",
     "output_type": "stream",
     "text": [
      "Lasso model: [-0.          0.00880606 -0.00693222  0.11432307  0.75584346  1.06945936]\n"
     ]
    }
   ],
   "source": [
    "from sklearn.linear_model import Lasso\n",
    "\n",
    "lasso= Lasso(alpha=0.1)\n",
    "lasso.fit(x,y)\n",
    "print('Lasso model:', (lasso.coef_))"
   ]
  },
  {
   "cell_type": "markdown",
   "id": "9dda4680",
   "metadata": {},
   "source": [
    "Lass, original number of columns= 6, new number of columns= 5."
   ]
  },
  {
   "cell_type": "markdown",
   "id": "ef8cbcde",
   "metadata": {},
   "source": [
    "# 6) Correlation matrix"
   ]
  },
  {
   "cell_type": "code",
   "execution_count": 65,
   "id": "b2a90c6c",
   "metadata": {},
   "outputs": [
    {
     "data": {
      "text/html": [
       "<div>\n",
       "<style scoped>\n",
       "    .dataframe tbody tr th:only-of-type {\n",
       "        vertical-align: middle;\n",
       "    }\n",
       "\n",
       "    .dataframe tbody tr th {\n",
       "        vertical-align: top;\n",
       "    }\n",
       "\n",
       "    .dataframe thead th {\n",
       "        text-align: right;\n",
       "    }\n",
       "</style>\n",
       "<table border=\"1\" class=\"dataframe\">\n",
       "  <thead>\n",
       "    <tr style=\"text-align: right;\">\n",
       "      <th></th>\n",
       "      <th>mpg</th>\n",
       "      <th>cylinders</th>\n",
       "      <th>displacement</th>\n",
       "      <th>weight</th>\n",
       "      <th>acceleration</th>\n",
       "      <th>model_year</th>\n",
       "      <th>origin</th>\n",
       "    </tr>\n",
       "  </thead>\n",
       "  <tbody>\n",
       "    <tr>\n",
       "      <th>mpg</th>\n",
       "      <td>1.000000</td>\n",
       "      <td>-0.775396</td>\n",
       "      <td>-0.804203</td>\n",
       "      <td>-0.831741</td>\n",
       "      <td>0.420289</td>\n",
       "      <td>0.579267</td>\n",
       "      <td>0.563450</td>\n",
       "    </tr>\n",
       "    <tr>\n",
       "      <th>cylinders</th>\n",
       "      <td>-0.775396</td>\n",
       "      <td>1.000000</td>\n",
       "      <td>0.950721</td>\n",
       "      <td>0.896017</td>\n",
       "      <td>-0.505419</td>\n",
       "      <td>-0.348746</td>\n",
       "      <td>-0.562543</td>\n",
       "    </tr>\n",
       "    <tr>\n",
       "      <th>displacement</th>\n",
       "      <td>-0.804203</td>\n",
       "      <td>0.950721</td>\n",
       "      <td>1.000000</td>\n",
       "      <td>0.932824</td>\n",
       "      <td>-0.543684</td>\n",
       "      <td>-0.370164</td>\n",
       "      <td>-0.609409</td>\n",
       "    </tr>\n",
       "    <tr>\n",
       "      <th>weight</th>\n",
       "      <td>-0.831741</td>\n",
       "      <td>0.896017</td>\n",
       "      <td>0.932824</td>\n",
       "      <td>1.000000</td>\n",
       "      <td>-0.417457</td>\n",
       "      <td>-0.306564</td>\n",
       "      <td>-0.581024</td>\n",
       "    </tr>\n",
       "    <tr>\n",
       "      <th>acceleration</th>\n",
       "      <td>0.420289</td>\n",
       "      <td>-0.505419</td>\n",
       "      <td>-0.543684</td>\n",
       "      <td>-0.417457</td>\n",
       "      <td>1.000000</td>\n",
       "      <td>0.288137</td>\n",
       "      <td>0.205873</td>\n",
       "    </tr>\n",
       "    <tr>\n",
       "      <th>model_year</th>\n",
       "      <td>0.579267</td>\n",
       "      <td>-0.348746</td>\n",
       "      <td>-0.370164</td>\n",
       "      <td>-0.306564</td>\n",
       "      <td>0.288137</td>\n",
       "      <td>1.000000</td>\n",
       "      <td>0.180662</td>\n",
       "    </tr>\n",
       "    <tr>\n",
       "      <th>origin</th>\n",
       "      <td>0.563450</td>\n",
       "      <td>-0.562543</td>\n",
       "      <td>-0.609409</td>\n",
       "      <td>-0.581024</td>\n",
       "      <td>0.205873</td>\n",
       "      <td>0.180662</td>\n",
       "      <td>1.000000</td>\n",
       "    </tr>\n",
       "  </tbody>\n",
       "</table>\n",
       "</div>"
      ],
      "text/plain": [
       "                   mpg  cylinders  displacement    weight  acceleration  \\\n",
       "mpg           1.000000  -0.775396     -0.804203 -0.831741      0.420289   \n",
       "cylinders    -0.775396   1.000000      0.950721  0.896017     -0.505419   \n",
       "displacement -0.804203   0.950721      1.000000  0.932824     -0.543684   \n",
       "weight       -0.831741   0.896017      0.932824  1.000000     -0.417457   \n",
       "acceleration  0.420289  -0.505419     -0.543684 -0.417457      1.000000   \n",
       "model_year    0.579267  -0.348746     -0.370164 -0.306564      0.288137   \n",
       "origin        0.563450  -0.562543     -0.609409 -0.581024      0.205873   \n",
       "\n",
       "              model_year    origin  \n",
       "mpg             0.579267  0.563450  \n",
       "cylinders      -0.348746 -0.562543  \n",
       "displacement   -0.370164 -0.609409  \n",
       "weight         -0.306564 -0.581024  \n",
       "acceleration    0.288137  0.205873  \n",
       "model_year      1.000000  0.180662  \n",
       "origin          0.180662  1.000000  "
      ]
     },
     "execution_count": 65,
     "metadata": {},
     "output_type": "execute_result"
    }
   ],
   "source": [
    "df.corr()"
   ]
  },
  {
   "cell_type": "markdown",
   "id": "e09d46fd",
   "metadata": {},
   "source": [
    "Correlation matrix, displacement and weight are highly correlated."
   ]
  }
 ],
 "metadata": {
  "kernelspec": {
   "display_name": "Python 3 (ipykernel)",
   "language": "python",
   "name": "python3"
  },
  "language_info": {
   "codemirror_mode": {
    "name": "ipython",
    "version": 3
   },
   "file_extension": ".py",
   "mimetype": "text/x-python",
   "name": "python",
   "nbconvert_exporter": "python",
   "pygments_lexer": "ipython3",
   "version": "3.9.12"
  }
 },
 "nbformat": 4,
 "nbformat_minor": 5
}
